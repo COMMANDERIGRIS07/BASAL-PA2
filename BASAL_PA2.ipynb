{
 "cells": [
  {
   "cell_type": "code",
   "execution_count": 1,
   "id": "c7ba8569-a0dc-41bc-9ee5-8a60b30b2e79",
   "metadata": {},
   "outputs": [
    {
     "name": "stdout",
     "output_type": "stream",
     "text": [
      "Original 5x5 Array (X):\n",
      " [[0.85233855 0.85435196 0.56916817 0.65785926 0.42271385]\n",
      " [0.81762106 0.52414217 0.42672334 0.89013667 0.10030047]\n",
      " [0.95930874 0.24336991 0.53324726 0.9383659  0.8231944 ]\n",
      " [0.70812892 0.4268814  0.4557     0.09263327 0.43986161]\n",
      " [0.43474525 0.87385577 0.95051179 0.39531512 0.94996744]]\n",
      "\n",
      "Normalized Array (X_normalized):\n",
      " [[ 0.90574982  0.91338907 -0.16864949  0.16786045 -0.72432348]\n",
      " [ 0.77402542 -0.33948622 -0.70911074  1.04916269 -1.94761775]\n",
      " [ 1.31161394 -1.40478659 -0.30493984  1.23215302  0.79517167]\n",
      " [ 0.3585926  -0.70851101 -0.59916809 -1.97670849 -0.65926178]\n",
      " [-0.67867415  0.98739003  1.27823673 -0.82827917  1.27617135]]\n",
      "\n",
      "10x10 Array of Squares (A):\n",
      " [[    1     4     9    16    25    36    49    64    81   100]\n",
      " [  121   144   169   196   225   256   289   324   361   400]\n",
      " [  441   484   529   576   625   676   729   784   841   900]\n",
      " [  961  1024  1089  1156  1225  1296  1369  1444  1521  1600]\n",
      " [ 1681  1764  1849  1936  2025  2116  2209  2304  2401  2500]\n",
      " [ 2601  2704  2809  2916  3025  3136  3249  3364  3481  3600]\n",
      " [ 3721  3844  3969  4096  4225  4356  4489  4624  4761  4900]\n",
      " [ 5041  5184  5329  5476  5625  5776  5929  6084  6241  6400]\n",
      " [ 6561  6724  6889  7056  7225  7396  7569  7744  7921  8100]\n",
      " [ 8281  8464  8649  8836  9025  9216  9409  9604  9801 10000]]\n",
      "\n",
      "Elements divisible by 3:\n",
      " [   9   36   81  144  225  324  441  576  729  900 1089 1296 1521 1764\n",
      " 2025 2304 2601 2916 3249 3600 3969 4356 4761 5184 5625 6084 6561 7056\n",
      " 7569 8100 8649 9216 9801]\n"
     ]
    }
   ],
   "source": [
    "import numpy as np\n",
    "\n",
    "#random 5x5 ndarray\n",
    "X = np.random.rand(5, 5)  # values between 0 and 1\n",
    "print(\"Original 5x5 Array (X):\\n\", X)\n",
    "\n",
    "#Normalizing x\n",
    "X_normalized = (X - X.mean()) / X.std()\n",
    "print(\"\\nNormalized Array (X_normalized):\\n\", X_normalized)\n",
    "\n",
    "#Save normalized array\n",
    "np.save(\"X_normalized.npy\", X_normalized)\n",
    "\n",
    "numbers = np.arange(1, 101)         # integers from 1 to 100\n",
    "squares = numbers ** 2              # squares\n",
    "A = squares.reshape(10, 10)         # reshape into 10x10 matrix\n",
    "print(\"\\n10x10 Array of Squares (A):\\n\", A)\n",
    "\n",
    "#elements divisible by 3\n",
    "div_by_3 = A[A % 3 == 0]\n",
    "print(\"\\nElements divisible by 3:\\n\", div_by_3)\n",
    "\n",
    "#save\n",
    "np.save(\"div_by_3.npy\", div_by_3)"
   ]
  },
  {
   "cell_type": "code",
   "execution_count": null,
   "id": "28b994c0-7da2-4a1f-bbee-b8f510b7691b",
   "metadata": {},
   "outputs": [],
   "source": []
  }
 ],
 "metadata": {
  "kernelspec": {
   "display_name": "Python 3 (ipykernel)",
   "language": "python",
   "name": "python3"
  },
  "language_info": {
   "codemirror_mode": {
    "name": "ipython",
    "version": 3
   },
   "file_extension": ".py",
   "mimetype": "text/x-python",
   "name": "python",
   "nbconvert_exporter": "python",
   "pygments_lexer": "ipython3",
   "version": "3.13.5"
  }
 },
 "nbformat": 4,
 "nbformat_minor": 5
}
